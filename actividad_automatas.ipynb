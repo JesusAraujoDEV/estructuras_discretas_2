{
 "cells": [
  {
   "cell_type": "markdown",
   "metadata": {},
   "source": [
    "# El Juego de la Vida de Conway\n",
    "\n",
    "**Autor**: Jesús Araujo  \n",
    "**Fecha**: [10/31/2024]\n",
    "\n",
    "## Introducción\n",
    "\n",
    "El Juego de la Vida es un autómata celular diseñado por el matemático británico **John Horton Conway** en 1970. Este autómata se ejecuta en una cuadrícula bidimensional en la que cada celda tiene dos estados posibles: viva o muerta. A través de un conjunto de reglas simples, el sistema evoluciona generando patrones complejos que simulan la vida y la muerte de las células en función de su entorno.\n",
    "\n",
    "## Reglas del Juego\n",
    "\n",
    "El estado de cada celda en la siguiente generación depende del número de celdas vecinas vivas en la generación actual. Las reglas son las siguientes:\n",
    "\n",
    "1. **Supervivencia**: Una célula viva con 2 o 3 vecinas vivas permanece viva en la siguiente generación.\n",
    "2. **Muerte**: Una célula viva con menos de 2 vecinas vivas muere por soledad. Si tiene más de 3 vecinas vivas, muere por superpoblación.\n",
    "3. **Nacimiento**: Una célula muerta con exactamente 3 vecinas vivas se convierte en una célula viva.\n",
    "\n",
    "## Implementación\n",
    "\n",
    "La implementación de este juego se puede realizar fácilmente en Python usando `numpy` para crear y manipular la cuadrícula y `matplotlib` para visualizar la evolución del tablero. Se comienza con una cuadrícula inicial generada aleatoriamente o configurada con un patrón específico.\n"
   ]
  },
  {
   "cell_type": "markdown",
   "metadata": {},
   "source": [
    "# Importar las bibliotecas necesarias"
   ]
  },
  {
   "cell_type": "code",
   "execution_count": 13,
   "metadata": {},
   "outputs": [],
   "source": [
    "import numpy as np\n",
    "import matplotlib.pyplot as plt\n",
    "import matplotlib.animation as animation\n"
   ]
  },
  {
   "cell_type": "markdown",
   "metadata": {},
   "source": [
    "# Definición del tablero inicial y las reglas de actualización "
   ]
  },
  {
   "cell_type": "code",
   "execution_count": 15,
   "metadata": {},
   "outputs": [],
   "source": [
    "# Configuración inicial\n",
    "grid_size = 50   # Tamaño del tablero (50x50 celdas)\n",
    "probability_alive = 0.2  # Probabilidad de que una celda inicie viva\n",
    "\n",
    "# Generar tablero inicial aleatoriamente\n",
    "grid = np.random.choice([0, 1], size=(grid_size, grid_size), p=[1 - probability_alive, probability_alive])\n",
    "\n",
    "# Función para calcular el estado siguiente del tablero\n",
    "def update_grid(grid):\n",
    "    new_grid = grid.copy()  # Hacer una copia del tablero\n",
    "    for row in range(grid.shape[0]):\n",
    "        for col in range(grid.shape[1]):\n",
    "            # Sumar las celdas vecinas\n",
    "            total = (grid[row, (col-1)%grid_size] + grid[row, (col+1)%grid_size] +\n",
    "                     grid[(row-1)%grid_size, col] + grid[(row+1)%grid_size, col] +\n",
    "                     grid[(row-1)%grid_size, (col-1)%grid_size] + grid[(row-1)%grid_size, (col+1)%grid_size] +\n",
    "                     grid[(row+1)%grid_size, (col-1)%grid_size] + grid[(row+1)%grid_size, (col+1)%grid_size])\n",
    "            \n",
    "            # Aplicar las reglas del juego\n",
    "            if grid[row, col] == 1:  # Celda viva\n",
    "                if total < 2 or total > 3:\n",
    "                    new_grid[row, col] = 0  # Muere\n",
    "            else:  # Celda muerta\n",
    "                if total == 3:\n",
    "                    new_grid[row, col] = 1  # Nace\n",
    "    return new_grid\n"
   ]
  },
  {
   "cell_type": "markdown",
   "metadata": {},
   "source": [
    "# Visualización y animación del juego"
   ]
  },
  {
   "cell_type": "code",
   "execution_count": 16,
   "metadata": {},
   "outputs": [
    {
     "data": {
      "image/png": "[encoded data removed]",
      "text/plain": [
       "<Figure size 640x480 with 1 Axes>"
      ]
     },
     "metadata": {},
     "output_type": "display_data"
    }
   ],
   "source": [
    "# Configurar la visualización\n",
    "fig, ax = plt.subplots()\n",
    "img = ax.imshow(grid, cmap='binary')  # Representación en blanco y negro\n",
    "\n",
    "# Función de actualización para cada frame de la animación\n",
    "def animate(frame):\n",
    "    global grid\n",
    "    grid = update_grid(grid)\n",
    "    img.set_data(grid)\n",
    "    return [img]\n",
    "\n",
    "# Crear la animación\n",
    "ani = animation.FuncAnimation(fig, animate, frames=100, interval=100, blit=True)\n",
    "plt.show()\n"
   ]
  },
  {
   "cell_type": "markdown",
   "metadata": {},
   "source": [
    "# Triángulo de Sierpinski\n",
    "\n",
    "**Autor**: Jesús Araujo  \n",
    "**Fecha**: [31/10/2024]\n",
    "\n",
    "## Introducción\n",
    "\n",
    "El **Triángulo de Sierpinski** es un fractal y un ejemplo clásico de autosemejanza. Fue descrito por el matemático polaco **Wacław Sierpiński** en 1915 y es conocido por su estructura única, en la que se repite el mismo patrón triangular en diferentes escalas. Este fractal se construye al dividir un triángulo en cuatro sub-triángulos, eliminando el triángulo central, y repitiendo este proceso en los triángulos restantes de manera infinita o hasta alcanzar el nivel deseado de detalle.\n",
    "\n",
    "## Propiedades\n",
    "\n",
    "1. **Autosimilitud**: El Triángulo de Sierpinski está compuesto de múltiples copias más pequeñas de sí mismo, en diferentes escalas.\n",
    "2. **Dimensión Fractal**: La dimensión fractal del Triángulo de Sierpinski es aproximadamente 1.585, lo que significa que está entre una línea (dimensión 1) y una superficie (dimensión 2).\n",
    "\n",
    "## Construcción Recursiva\n",
    "\n",
    "La construcción del Triángulo de Sierpinski se basa en un proceso iterativo o recursivo. A continuación, se detalla el proceso para construirlo:\n",
    "\n",
    "1. Comienza con un triángulo equilátero.\n",
    "2. Divide este triángulo en cuatro sub-triángulos de igual tamaño.\n",
    "3. Elimina el triángulo central.\n",
    "4. Repite este proceso en cada uno de los tres triángulos restantes hasta alcanzar el nivel de profundidad deseado.\n",
    "\n",
    "## Implementación en Python\n",
    "\n",
    "La siguiente implementación utiliza `matplotlib` en Python para dibujar el Triángulo de Sierpinski. Se puede configurar la profundidad de recursión para controlar el nivel de detalle del fractal."
   ]
  },
  {
   "cell_type": "markdown",
   "metadata": {},
   "source": [
    "## Crear la función para el Triángulo de Sierpinski"
   ]
  },
  {
   "cell_type": "code",
   "execution_count": 17,
   "metadata": {},
   "outputs": [],
   "source": [
    "# Función para dibujar un triángulo equilátero dado por sus tres vértices\n",
    "def draw_triangle(ax, vertices, color=\"black\"):\n",
    "    triangle = plt.Polygon(vertices, edgecolor=color, fill=True)\n",
    "    ax.add_patch(triangle)\n",
    "\n",
    "# Función recursiva para construir el Triángulo de Sierpinski\n",
    "def sierpinski(ax, vertices, depth):\n",
    "    if depth == 0:\n",
    "        draw_triangle(ax, vertices)\n",
    "    else:\n",
    "        # Calcular los puntos medios de cada lado del triángulo\n",
    "        midpoints = [\n",
    "            (vertices[0] + vertices[1]) / 2,\n",
    "            (vertices[1] + vertices[2]) / 2,\n",
    "            (vertices[2] + vertices[0]) / 2\n",
    "        ]\n",
    "        \n",
    "        # Llamada recursiva en cada triángulo de las esquinas\n",
    "        sierpinski(ax, [vertices[0], midpoints[0], midpoints[2]], depth - 1)\n",
    "        sierpinski(ax, [vertices[1], midpoints[0], midpoints[1]], depth - 1)\n",
    "        sierpinski(ax, [vertices[2], midpoints[1], midpoints[2]], depth - 1)\n"
   ]
  },
  {
   "cell_type": "markdown",
   "metadata": {},
   "source": [
    "## Visualizar el Triángulo de Sierpinski"
   ]
  },
  {
   "cell_type": "code",
   "execution_count": 18,
   "metadata": {},
   "outputs": [
    {
     "data": {
      "image/png": "[encoded data removed]",
      "text/plain": [
       "<Figure size 600x600 with 1 Axes>"
      ]
     },
     "metadata": {},
     "output_type": "display_data"
    }
   ],
   "source": [
    "# Configuración inicial\n",
    "num_points = 1000000  # Número de puntos a generar\n",
    "depth = 5           # Profundidad de fractal\n",
    "\n",
    "# Vértices del triángulo equilátero inicial\n",
    "initial_vertices = np.array([[0, 0], [1, np.sqrt(3)], [2, 0]])\n",
    "\n",
    "# Elegir un punto inicial (generalmente el centroide del triángulo)\n",
    "point = np.array([1, np.sqrt(3)/2])\n",
    "\n",
    "# Lista para almacenar los puntos generados\n",
    "points = [point]\n",
    "\n",
    "# Generar puntos usando el \"juego del caos\"\n",
    "for _ in range(num_points):\n",
    "    # Elegir aleatoriamente uno de los vértices\n",
    "    random_vertex = initial_vertices[np.random.choice([0, 1, 2])]\n",
    "    # Calcular el punto medio entre el punto actual y el vértice seleccionado\n",
    "    point = (point + random_vertex) / 2\n",
    "    points.append(point)\n",
    "\n",
    "# Convertir la lista de puntos a un arreglo para graficarlo\n",
    "points = np.array(points)\n",
    "\n",
    "# Configuración de la figura y el gráfico\n",
    "plt.figure(figsize=(6, 6))\n",
    "plt.axis('off')\n",
    "plt.scatter(points[:, 0], points[:, 1], color=\"purple\", s=0.5)  # Ajusta el color y tamaño de los puntos aquí\n",
    "\n",
    "# Mostrar el triángulo de Sierpinski\n",
    "plt.show()\n",
    "\n"
   ]
  }
 ],
 "metadata": {
  "kernelspec": {
   "display_name": "Python 3",
   "language": "python",
   "name": "python3"
  },
  "language_info": {
   "codemirror_mode": {
    "name": "ipython",
    "version": 3
   },
   "file_extension": ".py",
   "mimetype": "text/x-python",
   "name": "python",
   "nbconvert_exporter": "python",
   "pygments_lexer": "ipython3",
   "version": "3.12.7"
  }
 },
 "nbformat": 4,
 "nbformat_minor": 2
}
